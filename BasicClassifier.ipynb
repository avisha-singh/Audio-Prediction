{
 "cells": [
  {
   "cell_type": "code",
   "execution_count": 2,
   "metadata": {},
   "outputs": [],
   "source": [
    "# IMPORTING LIBRARIES\n",
    "# --------------------------------------------------------------------------------->>>\n",
    "\n",
    "import pandas as pd\n",
    "from pandas import DataFrame\n",
    "import numpy as np\n",
    "from sklearn.neighbors import KNeighborsClassifier\n",
    "from sklearn.model_selection import train_test_split\n",
    "from sklearn.metrics import confusion_matrix, accuracy_score\n",
    "from sklearn.naive_bayes import GaussianNB\n",
    "from sklearn.mixture import GaussianMixture\n",
    "from sklearn.tree import DecisionTreeClassifier\n",
    "from sklearn.ensemble import RandomForestClassifier\n",
    "import xgboost as xgb"
   ]
  },
  {
   "cell_type": "code",
   "execution_count": 3,
   "metadata": {},
   "outputs": [],
   "source": [
    "# READING DATAFRAME THEN DROPPING COLOUMNS\n",
    "# ---------------------------------------------------------------------------->>>\n",
    "\n",
    "df=pd.read_csv(\"features_3_sec.csv\")\n",
    "label=df['label']\n",
    "label_array=label.to_numpy()\n",
    "DF=df.drop(\"filename\",axis=1)\n",
    "df0=DF.drop(\"length\",axis=1)\n",
    "dff=df0.drop(\"label\",axis=1)"
   ]
  },
  {
   "cell_type": "code",
   "execution_count": 4,
   "metadata": {},
   "outputs": [],
   "source": [
    "# Renaming coloumns\n",
    "# --------------------------------------------------------------------------->>>\n",
    "\n",
    "file=dff.copy()\n",
    "title=[]\n",
    "for i in range(0,57):\n",
    "    title.append(i)\n",
    "file.columns=title"
   ]
  },
  {
   "cell_type": "code",
   "execution_count": 5,
   "metadata": {},
   "outputs": [],
   "source": [
    "# REMOVING OUTLIERS AND NORMALIZING DATA\n",
    "# -------------------------------------------------------------------------->>>\n",
    "\n",
    "# Calculating Quartile using Quantile function\n",
    "Q1=file.quantile(0.25)\n",
    "Q3=file.quantile(0.75)\n",
    "# Finding IQR\n",
    "IQR=Q3-Q1\n",
    "# Finding Upper Limit and Lower Limit Outlier\n",
    "UpperLimitForOultier=Q3+(1.5*IQR)\n",
    "LowerLimitForOutlier=Q1-(1.5*IQR)\n",
    "# Filtering outliers from the Data Frame \n",
    "UpperOutlier=file>UpperLimitForOultier\n",
    "LowerOutlier=file<LowerLimitForOutlier\n",
    "# replacing both upper and lower outliers with nan so that it can be replaced with median values\n",
    "file[LowerOutlier]=np.nan\n",
    "file[UpperOutlier]=np.nan\n",
    "# Filling all the outliers with the median values\n",
    "ProcessedDf=file.fillna(file.median())\n",
    "# Finding Max value and Min value of the new Processed data Frame after Filling Outlier with median for normalization\n",
    "max_value = ProcessedDf.max()\n",
    "min_value = ProcessedDf.min()\n",
    "# Normalizing data frame \n",
    "result = (ProcessedDf - min_value)/(max_value - min_value)\n",
    "# ADDING LABELS BACK\n",
    "Data=result.assign(label=label_array)\n",
    "# CONVERTING CSV\n",
    "Data.to_csv(\"Normalised.csv\")"
   ]
  },
  {
   "cell_type": "code",
   "execution_count": 6,
   "metadata": {},
   "outputs": [],
   "source": [
    "# REMOVING HIGHLY CORRELATED COLOUMNS \n",
    "# But Accuracy actualy decreases when we do so.\n",
    "#---------------------------------------------------------------------------------------->>>\n",
    "\n",
    "# Creating correlation matrix\n",
    "#corr_matrix=Data.corr(method='pearson').abs()\n",
    "\n",
    "# Selecting uppr triangle Matrix\n",
    "#upper = corr_matrix.where(np.triu(np.ones(corr_matrix.shape),k=1).astype(np.bool8))\n",
    "\n",
    "# Find features with correlation greater than 0.8\n",
    "#to_drop=[column for column in upper.columns if any(upper[column]>0.8)]\n",
    "# coloumns that were dropped were ='spectral_bandwidth_mean', 'rolloff_mean', 'zero_crossing_rate_mean', 'mfcc2_mean'\n",
    "\n",
    "# drop features\n",
    "#Data.drop(to_drop,axis=1,inplace=True)"
   ]
  },
  {
   "cell_type": "code",
   "execution_count": 7,
   "metadata": {},
   "outputs": [
    {
     "name": "stdout",
     "output_type": "stream",
     "text": [
      "(1000, 58)\n",
      "(998, 58)\n",
      "(997, 58)\n",
      "(999, 58)\n",
      "(998, 58)\n",
      "(1000, 58)\n",
      "(1000, 58)\n",
      "(1000, 58)\n",
      "(1000, 58)\n",
      "(998, 58)\n"
     ]
    }
   ],
   "source": [
    "# DIVIDING DATASET ON THE BASIS OF CLASS\n",
    "# ---------------------------------------------->>>\n",
    "\n",
    "df1=Data[Data['label']=='blues']\n",
    "print(df1.shape)\n",
    "df2=Data[Data['label']=='classical']\n",
    "print(df2.shape)\n",
    "df3=Data[Data['label']=='country']\n",
    "print(df3.shape)\n",
    "df4=Data[Data['label']=='disco']\n",
    "print(df4.shape)\n",
    "df5=Data[Data['label']=='hiphop']\n",
    "print(df5.shape)\n",
    "df6=Data[Data['label']=='jazz']\n",
    "print(df6.shape)\n",
    "df7=Data[Data['label']=='metal']\n",
    "print(df7.shape)\n",
    "df8=Data[Data['label']=='pop']\n",
    "print(df8.shape)\n",
    "df9=Data[Data['label']=='reggae']\n",
    "print(df9.shape)\n",
    "df10=Data[Data['label']=='rock']\n",
    "print(df10.shape)"
   ]
  },
  {
   "cell_type": "code",
   "execution_count": 8,
   "metadata": {},
   "outputs": [],
   "source": [
    "# SPLITTING INTO TRAIN AND TEST DATA\n",
    "# ------------------------------------------------------------------------------------------------->>>\n",
    "\n",
    "train1,test1 = train_test_split(df1, test_size=0.3)\n",
    "train2,test2 = train_test_split(df2, test_size=0.3)\n",
    "train3,test3 = train_test_split(df3, test_size=0.3)\n",
    "train4,test4 = train_test_split(df4, test_size=0.3)\n",
    "train5,test5 = train_test_split(df5, test_size=0.3)\n",
    "train6,test6 = train_test_split(df6, test_size=0.3)\n",
    "train7,test7 = train_test_split(df7, test_size=0.3)\n",
    "train8,test8 = train_test_split(df8, test_size=0.3)\n",
    "train9,test9 = train_test_split(df9, test_size=0.3)\n",
    "train10,test10 = train_test_split(df10, test_size=0.3)\n",
    "\n",
    "# CONCATENATING AND CONVERTING INTO CSV\n",
    "# ---------------------------------------------------------------------------------------------->>>\n",
    "train = pd.concat([train1,train2,train3,train4,train5,train6,train7,train8,train9,train10])\n",
    "train.to_csv(\"Data-train.csv\")\n",
    "test = pd.concat([test1,test2,test3,test4,test5,test6,test7,test8,test9,test10])\n",
    "test.to_csv(\"Data-test.csv\")"
   ]
  },
  {
   "cell_type": "code",
   "execution_count": 9,
   "metadata": {},
   "outputs": [],
   "source": [
    "# EXTRACTING DEPENDENT AND INDEPENDENT VARIABLE\n",
    "# ---------------------------------------------------------->>>\n",
    "\n",
    "X_train = train.iloc[:, :-1].values\n",
    "Y_train = train.iloc[:, 57].values\n",
    "X_test = test.iloc[:, :-1].values\n",
    "Y_test = test.iloc[:, 57].values"
   ]
  },
  {
   "cell_type": "code",
   "execution_count": 10,
   "metadata": {},
   "outputs": [
    {
     "name": "stdout",
     "output_type": "stream",
     "text": [
      "Confusion Matrix for k=1: \n",
      "[[251   2  10   8   0   3   1   0  17   8]\n",
      " [  0 275   6   2   0  10   1   1   3   2]\n",
      " [ 13   2 216  18   4  13   2   5  10  17]\n",
      " [  6   0   7 244  10   2   5   3   7  16]\n",
      " [  4   0   5  11 243   0   5   8  20   4]\n",
      " [ 10  14  15   3   0 246   0   3   3   6]\n",
      " [  3   0   0  12   1   1 276   0   1   6]\n",
      " [  0   2   7  23   5   2   0 246  10   5]\n",
      " [  2   1   6   7  14   1   0   9 255   5]\n",
      " [ 11   1  10  28   3   7   7   8   8 217]]\n",
      "Accuracy for k=1:  0.823\n",
      "\n",
      "Confusion Matrix for k=3: \n",
      "[[259   0  13   6   1   3   1   0  12   5]\n",
      " [  4 279   6   1   0   6   1   0   1   2]\n",
      " [ 18   2 233  15   2   9   1   3  10   7]\n",
      " [ 11   0   6 246   7   1   7   2   6  14]\n",
      " [  5   0  10  21 234   0   1  10  16   3]\n",
      " [ 19  23  13   6   1 230   0   1   4   3]\n",
      " [  5   1   0  13   4   1 265   0   1  10]\n",
      " [  2   2  15  24  11   2   0 237   6   1]\n",
      " [  4   1   6  16  13   1   0   8 246   5]\n",
      " [ 18   1  23  35   5   7   5   3   7 196]]\n",
      "Accuracy for k=3:  0.8083333333333333\n",
      "\n",
      "Confusion Matrix for k=1: \n",
      "[[253   1  11   6   0   2   3   0  18   6]\n",
      " [  1 281   7   0   0   7   1   0   1   2]\n",
      " [ 15   2 239  11   2  10   1   1  13   6]\n",
      " [  9   0   5 242  11   2   3   3  11  14]\n",
      " [  6   0   9  15 238   0   4   7  15   6]\n",
      " [ 15  28  13   3   0 230   0   2   5   4]\n",
      " [  4   0   0  13   4   0 268   0   2   9]\n",
      " [  1   1  11  28  11   3   0 235   8   2]\n",
      " [  2   0   9  14  13   0   0  10 247   5]\n",
      " [ 20   3  19  35   4  11  10   2  11 185]]\n",
      "Accuracy for k=5:  0.806\n"
     ]
    }
   ],
   "source": [
    "# APPLYING KNN CLASSIFIER for K=(1,3,5)\n",
    "#-------------------------------------------------------------------------------->>>\n",
    "\n",
    "# FOR K=1\n",
    "classifier = KNeighborsClassifier(n_neighbors=1)\n",
    "classifier.fit(X_train,Y_train)\n",
    "# PREDICTING THE TEST RESULTS\n",
    "Y_pred =classifier.predict(X_test)\n",
    "# CREATING CONFUSION MATRIX\n",
    "result =confusion_matrix(Y_test,Y_pred)\n",
    "print(\"Confusion Matrix for k=1: \")\n",
    "print(result)\n",
    "# FINDING ACCURACY SCORE\n",
    "result2 = accuracy_score(Y_test,Y_pred)\n",
    "print(\"Accuracy for k=1: \",result2)\n",
    "print()\n",
    "\n",
    "# FOR K=3\n",
    "classifier1 = KNeighborsClassifier(n_neighbors=3)\n",
    "classifier1.fit(X_train,Y_train)\n",
    "# PREDICTING THE TEST RESULTS\n",
    "Y_pred1 =classifier1.predict(X_test)\n",
    "# CREATING CONFUSION MATRIX\n",
    "result3 =confusion_matrix(Y_test,Y_pred1)\n",
    "print(\"Confusion Matrix for k=3: \")\n",
    "print(result3)\n",
    "# FINDING ACCURACY SCORE\n",
    "result4 = accuracy_score(Y_test,Y_pred1)\n",
    "print(\"Accuracy for k=3: \",result4)\n",
    "print()\n",
    "\n",
    "# FOR K=5\n",
    "classifier2 = KNeighborsClassifier(n_neighbors=5)\n",
    "classifier2.fit(X_train,Y_train)\n",
    "# PREDICTING THE TEST RESULTS\n",
    "Y_pred2 =classifier2.predict(X_test)\n",
    "# CREATING CONFUSION MATRIX\n",
    "result5 =confusion_matrix(Y_test,Y_pred2)\n",
    "print(\"Confusion Matrix for k=1: \")\n",
    "print(result5)\n",
    "# FINDING ACCURACY SCORE\n",
    "result6 = accuracy_score(Y_test,Y_pred2)\n",
    "print(\"Accuracy for k=5: \",result6)"
   ]
  },
  {
   "cell_type": "code",
   "execution_count": 11,
   "metadata": {},
   "outputs": [
    {
     "name": "stdout",
     "output_type": "stream",
     "text": [
      "Naive Bayes score: 0.521\n"
     ]
    }
   ],
   "source": [
    "# APPLYING BAYES CLASSIFIER ON UNIMODAL GAUSSIAN DENSITY\n",
    "#--------------------------------------------------------------------------------------->>>\n",
    "\n",
    "nb = GaussianNB()\n",
    "nb.fit(X_train, Y_train)\n",
    "score=nb.score(X_test, Y_test)\n",
    "print(\"Naive Bayes score:\",score)"
   ]
  },
  {
   "cell_type": "code",
   "execution_count": 12,
   "metadata": {},
   "outputs": [
    {
     "name": "stdout",
     "output_type": "stream",
     "text": [
      "[0 0 0 ... 9 9 9]\n",
      "[5 1 6 ... 1 6 6]\n",
      "[[  2  44   0  25   0 125  64   1  11  28]\n",
      " [213   0   2   2   5   7   0   4  67   0]\n",
      " [  1   4  45   7  61 101  63   5   7   6]\n",
      " [  0  43  90  34  38   2  85   6   0   2]\n",
      " [  0   4  26  54  37   9  73  86   1  10]\n",
      " [ 61  14  29   6  35  85   4  12  51   3]\n",
      " [  0 146   2  19   3   1  29   0   0 100]\n",
      " [  0   0  97   6  36   8   0 152   1   0]\n",
      " [  0   1  11  37  83  50  71  46   0   1]\n",
      " [  4  67  44  20  51  27  70   1   6  10]]\n",
      "Accuracy score is:  0.13133333333333333\n"
     ]
    }
   ],
   "source": [
    "# APPLYING BAYES CLASSIFIER USING MULTIMODAL GAUSSIAN MIXTURE MODEL\n",
    "# ------------------------------------------------------------------------------->>>\\\n",
    "\n",
    "GMM=GaussianMixture(n_components=10)\n",
    "GMM.fit(X_train)\n",
    "label=GMM.predict(X_test)\n",
    "\n",
    "# Changing labels to integer value to fit to label\n",
    "\n",
    "test=test.replace('blues',0)\n",
    "test=test.replace('classical',1)\n",
    "test=test.replace('country',2)\n",
    "test=test.replace('disco',3)\n",
    "test=test.replace('hiphop',4)\n",
    "test=test.replace('jazz',5)\n",
    "test=test.replace('metal',6)\n",
    "test=test.replace('pop',7)\n",
    "test=test.replace('reggae',8)\n",
    "test=test.replace('rock',9)\n",
    "\n",
    "# Defining new Y_Test\n",
    "Y_testnew = test.iloc[:, 57].values\n",
    "\n",
    "# Calculating score\n",
    "acc= accuracy_score(Y_testnew,label)\n",
    "\n",
    "print(Y_testnew)\n",
    "print(label)\n",
    "print(confusion_matrix(Y_testnew,label))\n",
    "print('Accuracy score is: ',acc)"
   ]
  },
  {
   "cell_type": "code",
   "execution_count": 13,
   "metadata": {},
   "outputs": [
    {
     "name": "stdout",
     "output_type": "stream",
     "text": [
      "Accuracy Score: 0.6183333333333333\n"
     ]
    }
   ],
   "source": [
    "# USING DECISION TREE TO PREDICT GENRE\n",
    "# ---------------------------------------------------------------->>>\n",
    "\n",
    "classifier = DecisionTreeClassifier()\n",
    "classifier = classifier.fit(X_train,Y_train)\n",
    "genre = classifier.predict(X_test)\n",
    "dec_res=accuracy_score(Y_test,genre)\n",
    "print('Accuracy Score:',dec_res)"
   ]
  },
  {
   "cell_type": "code",
   "execution_count": 14,
   "metadata": {},
   "outputs": [
    {
     "name": "stdout",
     "output_type": "stream",
     "text": [
      "Accuracy Score: 0.841\n"
     ]
    }
   ],
   "source": [
    "# USING RANDOM FOREST TO PREDICT GENRE\n",
    "#--------------------------------------------------------------------->>>\n",
    "\n",
    "clf=RandomForestClassifier(n_estimators=100)\n",
    "clf.fit(X_train,Y_train)\n",
    "rf_pred=clf.predict(X_test)\n",
    "rf_score=accuracy_score(Y_test,rf_pred)\n",
    "print('Accuracy Score:',rf_score)"
   ]
  },
  {
   "cell_type": "code",
   "execution_count": 15,
   "metadata": {},
   "outputs": [
    {
     "name": "stdout",
     "output_type": "stream",
     "text": [
      "Accuracy Score :  0.865\n"
     ]
    }
   ],
   "source": [
    "# Using XGBoost\n",
    "# ------------------------------------------------------------->>>\n",
    "\n",
    "# Changing labels to integer value to fit to label\n",
    "\n",
    "train=train.replace('blues',0)\n",
    "train=train.replace('classical',1)\n",
    "train=train.replace('country',2)\n",
    "train=train.replace('disco',3)\n",
    "train=train.replace('hiphop',4)\n",
    "train=train.replace('jazz',5)\n",
    "train=train.replace('metal',6)\n",
    "train=train.replace('pop',7)\n",
    "train=train.replace('reggae',8)\n",
    "train=train.replace('rock',9)\n",
    "\n",
    "#Defining new trains\n",
    "X_trainnew = train.iloc[:, :-1].values\n",
    "Y_trainnew = train.iloc[:, 57].values\n",
    "\n",
    "# Applying XGBoost\n",
    "xgb_classifier = xgb.XGBClassifier()\n",
    "xgb_classifier.fit(X_trainnew,Y_trainnew)\n",
    "preds = xgb_classifier.predict(X_test)\n",
    "xgb_score=accuracy_score(Y_testnew,preds)\n",
    "print('Accuracy Score : ',xgb_score)"
   ]
  },
  {
   "cell_type": "code",
   "execution_count": 16,
   "metadata": {},
   "outputs": [
    {
     "name": "stdout",
     "output_type": "stream",
     "text": [
      "Accuracy of KNN is for k=1 :  0.823\n",
      "Accuracy of KNN is for k=3 :  0.8083333333333333\n",
      "Accuracy of KNN is for k=5 :  0.806\n",
      "Accuracy of Unimodal Bayes Classifier is :  0.521\n",
      "Accuracy of GMM Bayes classifier is :  0.13133333333333333\n",
      "Accuracy Score of Decision Tree is :  0.6183333333333333\n",
      "Accuracy Score of Random Forest is :  0.841\n",
      "Accuracy Score of XGBoost is :  0.865\n"
     ]
    }
   ],
   "source": [
    "# COMPARING ACCURACY OF ALL CLASSIFIERS\n",
    "#-------------------------------------------------------------------->>>\n",
    "\n",
    "print('Accuracy of KNN is for k=1 : ',result2)\n",
    "print('Accuracy of KNN is for k=3 : ',result4)\n",
    "print('Accuracy of KNN is for k=5 : ',result6)\n",
    "print('Accuracy of Unimodal Bayes Classifier is : ',score)\n",
    "print('Accuracy of GMM Bayes classifier is : ',acc)\n",
    "print('Accuracy Score of Decision Tree is : ',dec_res)\n",
    "print('Accuracy Score of Random Forest is : ',rf_score)\n",
    "print('Accuracy Score of XGBoost is : ',xgb_score)"
   ]
  }
 ],
 "metadata": {
  "kernelspec": {
   "display_name": "Python 3.10.6 64-bit",
   "language": "python",
   "name": "python3"
  },
  "language_info": {
   "codemirror_mode": {
    "name": "ipython",
    "version": 3
   },
   "file_extension": ".py",
   "mimetype": "text/x-python",
   "name": "python",
   "nbconvert_exporter": "python",
   "pygments_lexer": "ipython3",
   "version": "3.10.6 (tags/v3.10.6:9c7b4bd, Aug  1 2022, 21:53:49) [MSC v.1932 64 bit (AMD64)]"
  },
  "orig_nbformat": 4,
  "vscode": {
   "interpreter": {
    "hash": "26077a1121060ebfe5ea19495cce760dcad431d01779d10862ca357e3591cd10"
   }
  }
 },
 "nbformat": 4,
 "nbformat_minor": 2
}
