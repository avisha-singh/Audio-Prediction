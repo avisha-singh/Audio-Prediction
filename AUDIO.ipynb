{
 "cells": [
  {
   "cell_type": "code",
   "execution_count": 1,
   "metadata": {},
   "outputs": [],
   "source": [
    "# IMPORTING LIBRARIES\n",
    "# --------------------------------------------->>>\n",
    "\n",
    "import librosa\n",
    "import pickle"
   ]
  },
  {
   "cell_type": "code",
   "execution_count": 2,
   "metadata": {},
   "outputs": [
    {
     "name": "stdout",
     "output_type": "stream",
     "text": [
      "(1000, 58)\n",
      "(998, 58)\n",
      "(997, 58)\n",
      "(999, 58)\n",
      "(998, 58)\n",
      "(1000, 58)\n",
      "(1000, 58)\n",
      "(1000, 58)\n",
      "(1000, 58)\n",
      "(998, 58)\n",
      "Confusion Matrix for k=1: \n",
      "[[256   0  14   4   1   8   0   0  12   5]\n",
      " [  0 274   8   3   1  11   0   0   0   3]\n",
      " [ 12   1 218  10   4  12   3   2  13  25]\n",
      " [  2   2  11 253   8   1   1   4   6  12]\n",
      " [  4   0   3  17 244   1   1   7  19   4]\n",
      " [  5  20  11   2   1 256   0   0   2   3]\n",
      " [  3   2   3   6   3   1 274   0   1   7]\n",
      " [  0   0   7  19  20   1   0 234  15   4]\n",
      " [  3   0   5   6   9   2   0  11 259   5]\n",
      " [  6   1  18  19   4   6   9  11   6 220]]\n",
      "Accuracy for k=1:  0.8293333333333334\n",
      "\n",
      "Confusion Matrix for k=3: \n",
      "[[261   1  13   5   1   5   2   0  10   2]\n",
      " [  3 286   6   0   1   3   0   0   0   1]\n",
      " [ 14   4 243   6   0   4   2   2  11  14]\n",
      " [  3   3  15 247   6   1   4   4   5  12]\n",
      " [  7   1  13  24 229   0   1   7  16   2]\n",
      " [  9  27  21   1   2 235   2   0   1   2]\n",
      " [  7   2   3  11   3   0 267   0   0   7]\n",
      " [  2   1  16  26  24   2   0 217   8   4]\n",
      " [  2   1   7  19  13   2   1   6 247   2]\n",
      " [ 21   3  27  36   5   4   9   2   5 188]]\n",
      "Accuracy for k=3:  0.8066666666666666\n",
      "\n",
      "Confusion Matrix for k=1: \n",
      "[[250   1  16   3   1   9   5   0  11   4]\n",
      " [  1 283   8   1   2   4   0   0   0   1]\n",
      " [ 12   3 234   4   2  12   2   1  13  17]\n",
      " [  3   3   3 256   7   2   2   7   5  12]\n",
      " [ 10   0   7  16 236   1   4   8  15   3]\n",
      " [  6  23  16   1   2 243   2   2   1   4]\n",
      " [  3   2   3  13   5   1 267   0   0   6]\n",
      " [  1   1  14  26  20   3   0 225   8   2]\n",
      " [  0   1  11  18  16   2   2   8 241   1]\n",
      " [ 15   2  23  30   8   7  10   5  13 187]]\n",
      "Accuracy for k=5:  0.8073333333333333\n",
      "Naive Bayes score: 0.511\n",
      "[0 0 0 ... 9 9 9]\n",
      "[0 5 5 ... 8 5 8]\n",
      "[[118   0  66  25  41  40   1   2   0   7]\n",
      " [ 12   0   1   7   0   0   4 207   6  63]\n",
      " [ 99  43  73   6   9   6   4   0  52   8]\n",
      " [  7  85  84  24   3  40  10   1  46   0]\n",
      " [  7  44  69  62  14   4  70   0  30   0]\n",
      " [ 72  32   5   8   0   3  10  77  48  45]\n",
      " [  2   3  38  14 100 134   0   0   4   5]\n",
      " [  9 100   0   9   0   0 148   1  33   0]\n",
      " [ 53  12  69  36   0   0  48   0  81   1]\n",
      " [ 16  48  88  24   5  64   2   4  46   3]]\n",
      "Accuracy score is:  0.10566666666666667\n",
      "Accuracy Score: 0.5996666666666667\n",
      "Accuracy Score: 0.8393333333333334\n",
      "Accuracy Score :  0.8683333333333333\n",
      "Accuracy of KNN is for k=1 :  0.8293333333333334\n",
      "Accuracy of KNN is for k=3 :  0.8066666666666666\n",
      "Accuracy of KNN is for k=5 :  0.8073333333333333\n",
      "Accuracy of Unimodal Bayes Classifier is :  0.511\n",
      "Accuracy of GMM Bayes classifier is :  0.10566666666666667\n",
      "Accuracy Score of Decision Tree is :  0.5996666666666667\n",
      "Accuracy Score of Random Forest is :  0.8393333333333334\n",
      "Accuracy Score of XGBoost is :  0.8683333333333333\n"
     ]
    }
   ],
   "source": [
    "# LINKING CLASSIFIER FILE TO THIS TO APPLY CLASSIFICATION\n",
    "#--------------------------------------------------------------------------------->>>\n",
    "\n",
    "%run ./BasicClassifier.ipynb"
   ]
  },
  {
   "cell_type": "code",
   "execution_count": 3,
   "metadata": {},
   "outputs": [],
   "source": [
    "# READING AUDIO FILE\n",
    "# ------------------------------------------------------------------------------>>>\n",
    "audio_path='/IC272/PYTHON/PROJECT/genres_original/pop/pop.00050.wav'\n",
    "y, sr = librosa.load(audio_path,duration=3)\n",
    "\n",
    "# CREATING A LIST OF FEATURES\n",
    "features=[]"
   ]
  },
  {
   "cell_type": "code",
   "execution_count": 4,
   "metadata": {},
   "outputs": [
    {
     "name": "stdout",
     "output_type": "stream",
     "text": [
      "0.42500263\n",
      "0.10009028\n"
     ]
    }
   ],
   "source": [
    "# EXTRACTING FEATURES\n",
    "\n",
    "# CHROMA_STFT (MEAN AND VARIANCE)\n",
    "# ----------------------------------------------------------------->>>\n",
    "\n",
    "chrom=librosa.feature.chroma_stft(y=y, sr=sr)\n",
    "# Finding mean and variance\n",
    "chrom_mean=chrom.mean()\n",
    "chrom_var=chrom.var()\n",
    "# Appending\n",
    "features.append(chrom_mean)\n",
    "features.append(chrom_var)\n",
    "# Printing\n",
    "print(chrom_mean)\n",
    "print(chrom_var)"
   ]
  },
  {
   "cell_type": "code",
   "execution_count": 5,
   "metadata": {},
   "outputs": [
    {
     "name": "stdout",
     "output_type": "stream",
     "text": [
      "0.18986066\n",
      "0.010618671\n"
     ]
    }
   ],
   "source": [
    "# RMS (MEAN AND VARIANCE)\n",
    "# ---------------------------------------------------------------------->>>\n",
    "\n",
    "rms=librosa.feature.rms(y=y)\n",
    "# Finding mean and variance\n",
    "rms_mean=rms.mean()\n",
    "rms_var=rms.var()\n",
    "# Appending\n",
    "features.append(rms_mean)\n",
    "features.append(rms_var)\n",
    "# Printing\n",
    "print(rms_mean)\n",
    "print(rms_var)"
   ]
  },
  {
   "cell_type": "code",
   "execution_count": 6,
   "metadata": {},
   "outputs": [
    {
     "name": "stdout",
     "output_type": "stream",
     "text": [
      "2974.100322799366\n",
      "1426944.6857989999\n"
     ]
    }
   ],
   "source": [
    "# SPECTRAL CENTROID (MEAN AND VARIANCE)\n",
    "# -------------------------------------------------------------------------------->>>\n",
    "\n",
    "cent = librosa.feature.spectral_centroid(y=y, sr=sr)\n",
    "# Finding mean and variance\n",
    "cent_mean=cent.mean()\n",
    "cent_var=cent.var()\n",
    "# Appending\n",
    "features.append(cent_mean)\n",
    "features.append(cent_var)\n",
    "# Printing\n",
    "print(cent_mean)\n",
    "print(cent_var)"
   ]
  },
  {
   "cell_type": "code",
   "execution_count": 7,
   "metadata": {},
   "outputs": [
    {
     "name": "stdout",
     "output_type": "stream",
     "text": [
      "3189.7747663494797\n",
      "193812.95751252875\n"
     ]
    }
   ],
   "source": [
    "# SPECTRAL BANDWIDTH (MEAN AND VARIANCE)\n",
    "# -------------------------------------------------------->>>\n",
    "\n",
    "spec_bw = librosa.feature.spectral_bandwidth(y=y, sr=sr)\n",
    "# Finding mean and variance\n",
    "spec_bw_mean=spec_bw.mean()\n",
    "spec_bw_var=spec_bw.var()\n",
    "# Appending\n",
    "features.append(spec_bw_mean)\n",
    "features.append(spec_bw_var)\n",
    "# Printing\n",
    "print(spec_bw_mean)\n",
    "print(spec_bw_var)"
   ]
  },
  {
   "cell_type": "code",
   "execution_count": 8,
   "metadata": {},
   "outputs": [
    {
     "name": "stdout",
     "output_type": "stream",
     "text": [
      "6877.7878981370195\n",
      "4109325.328736086\n"
     ]
    }
   ],
   "source": [
    "# ROLL OFF (MEAN AND VARIANCE)\n",
    "# ------------------------------------------------------------->>>\n",
    "\n",
    "roll=librosa.feature.spectral_rolloff(y=y, sr=sr)\n",
    "# Finding mean and variance\n",
    "roll_mean=roll.mean()\n",
    "roll_var=roll.var()\n",
    "# Appending\n",
    "features.append(roll_mean)\n",
    "features.append(roll_var)\n",
    "# Printing\n",
    "print(roll_mean)\n",
    "print(roll_var)"
   ]
  },
  {
   "cell_type": "code",
   "execution_count": 9,
   "metadata": {},
   "outputs": [
    {
     "name": "stdout",
     "output_type": "stream",
     "text": [
      "0.09801682692307692\n",
      "0.005500560737925874\n"
     ]
    }
   ],
   "source": [
    "# ZERO CROSSING RATE (MEAN AND VARIANCE)\n",
    "# ------------------------------------------------------------------------->>>\n",
    "\n",
    "zcr=librosa.feature.zero_crossing_rate(y)\n",
    "# Finding mean and variance\n",
    "zcr_mean=zcr.mean()\n",
    "zcr_var=zcr.var()\n",
    "# Appending\n",
    "features.append(zcr_mean)\n",
    "features.append(zcr_var)\n",
    "# Printing\n",
    "print(zcr_mean)\n",
    "print(zcr_var)"
   ]
  },
  {
   "cell_type": "code",
   "execution_count": 10,
   "metadata": {},
   "outputs": [
    {
     "name": "stdout",
     "output_type": "stream",
     "text": [
      "-2.6263824e-06\n",
      "0.019982964\n",
      "5.9934006e-05\n",
      "0.01257901\n"
     ]
    }
   ],
   "source": [
    "# HARMONY AND PERCEPTR (MEAN AND VARIANCE)\n",
    "# -------------------------------------------------------------------->>>\n",
    "\n",
    "trim_y,_= librosa.effects.trim(y)\n",
    "y_harmonic, y_percep = librosa.effects.hpss(trim_y)\n",
    "# Finding mean and variance of Harmony\n",
    "harmony_mean=y_harmonic.mean()\n",
    "harmony_var=y_harmonic.var()\n",
    "# Appending\n",
    "features.append(harmony_mean)\n",
    "features.append(harmony_var)\n",
    "# Finding mean and variance of Perceptr\n",
    "perceptr_mean=y_percep.mean()\n",
    "perceptr_var=y_percep.var()\n",
    "# Appending\n",
    "features.append(perceptr_mean)\n",
    "features.append(perceptr_var)\n",
    "# Printing\n",
    "print(harmony_mean)\n",
    "print(harmony_var)\n",
    "print(perceptr_mean)\n",
    "print(perceptr_var)"
   ]
  },
  {
   "cell_type": "code",
   "execution_count": 11,
   "metadata": {},
   "outputs": [
    {
     "name": "stdout",
     "output_type": "stream",
     "text": [
      "[143.5546875]\n"
     ]
    }
   ],
   "source": [
    "# TEMPO\n",
    "# ----------------------------------------------------------------------->>>\n",
    "\n",
    "onset_env = librosa.onset.onset_strength(y=y, sr=sr)\n",
    "tempo = librosa.beat.tempo(onset_envelope=onset_env, sr=sr)\n",
    "# Appending\n",
    "features.append(tempo)\n",
    "# Printing\n",
    "print(tempo)"
   ]
  },
  {
   "cell_type": "code",
   "execution_count": 12,
   "metadata": {},
   "outputs": [],
   "source": [
    "# MFCC (Mel-Frequency Cepstral Coefficients) \n",
    "# (MEAN AND VARIANCE OF 20 MFCCS)\n",
    "# ------------------------------------------------------------------------------>>>\n",
    "\n",
    "mfccs = librosa.feature.mfcc(y=y, sr=sr, n_mfcc=20)\n",
    "# Finding mean and variance\n",
    "for i in range(len(mfccs)):\n",
    "    mfccs_mean=mfccs[i].mean()\n",
    "    mfccs_var=mfccs[i].var()\n",
    "    # Appending\n",
    "    features.append(mfccs_mean)\n",
    "    features.append(mfccs_var)"
   ]
  },
  {
   "cell_type": "code",
   "execution_count": 13,
   "metadata": {},
   "outputs": [
    {
     "name": "stdout",
     "output_type": "stream",
     "text": [
      "         0         1         2         3         4         5         6   \\\n",
      "0  0.587537  0.826441  0.601812  1.538381  0.648265  1.169022  0.842223   \n",
      "\n",
      "         7         8         9   ...        47        48        49        50  \\\n",
      "0  0.598245  0.754703  0.853576  ...  0.415865  0.485406  0.643386  0.292934   \n",
      "\n",
      "         51        52        53        54        55        56  \n",
      "0  0.477075  0.627149  0.667278  0.324923  0.543905  0.301899  \n",
      "\n",
      "[1 rows x 57 columns]\n"
     ]
    }
   ],
   "source": [
    "# Converting Feature extracted list into dataframe\n",
    "# ------------------------------------------------------------------------------>>>\n",
    "\n",
    "audio=pd.DataFrame(features).T\n",
    "\n",
    "# Normalising feature extracted audio data\n",
    "norm_audio= (audio - min_value)/(max_value - min_value)\n",
    "norm_audio= norm_audio.astype(float)\n",
    "print(norm_audio)"
   ]
  },
  {
   "cell_type": "code",
   "execution_count": 14,
   "metadata": {},
   "outputs": [],
   "source": [
    "# Training model and changing the values to numbers\n",
    "# ------------------------------------------------------------->>>\n",
    "\n",
    "model=Data.copy()\n",
    "\n",
    "model=model.replace('blues',0)\n",
    "model=model.replace('classical',1)\n",
    "model=model.replace('country',2)\n",
    "model=model.replace('disco',3)\n",
    "model=model.replace('hiphop',4)\n",
    "model=model.replace('jazz',5)\n",
    "model=model.replace('metal',6)\n",
    "model=model.replace('pop',7)\n",
    "model=model.replace('reggae',8)\n",
    "model=model.replace('rock',9)\n",
    "\n",
    "train_x = model.iloc[:, :-1].values\n",
    "train_y = model.iloc[:, 57].values"
   ]
  },
  {
   "cell_type": "code",
   "execution_count": 15,
   "metadata": {},
   "outputs": [],
   "source": [
    "# Applying XGBoost as it had highest accuracy\n",
    "# ------------------------------------------------------>>>\n",
    "\n",
    "xgb_classifier = xgb.XGBClassifier()\n",
    "xgb_classifier.fit(train_x,train_y)\n",
    "preds = xgb_classifier.predict(norm_audio)"
   ]
  },
  {
   "cell_type": "code",
   "execution_count": 16,
   "metadata": {},
   "outputs": [],
   "source": [
    "# Saving models in pickle\n",
    "# ----------------------------------------------------------------->>>\n",
    "\n",
    "pickle.dump(xgb_classifier, open('/IC272/PYTHON/PROJECT/Flask/models/new/model.pkl', 'wb'))\n",
    "pickle.dump(min_value, open('/IC272/PYTHON/PROJECT/Flask/models/new/min.pkl', 'wb'))\n",
    "pickle.dump(max_value, open('/IC272/PYTHON/PROJECT/Flask/models/new/max.pkl', 'wb'))\n",
    "pickle.dump(Data, open('/IC272/PYTHON/PROJECT/Flask/models/new/data.pkl', 'wb'))"
   ]
  },
  {
   "cell_type": "code",
   "execution_count": 17,
   "metadata": {},
   "outputs": [
    {
     "name": "stdout",
     "output_type": "stream",
     "text": [
      "Pop\n"
     ]
    }
   ],
   "source": [
    "# Creating Dictionary to decode the name of the genre\n",
    "#--------------------------------------------------------------------------------------------------------------->>>\n",
    "\n",
    "dict={0:'Blues',1:'Classical',2:'Country',3:'Disco',4:'Hiphop',5:'Jazz',6:'Metal',7:'Pop',8:'Reggae',9:'Rock'}\n",
    "answer=dict[int(preds)]\n",
    "print(answer)"
   ]
  }
 ],
 "metadata": {
  "kernelspec": {
   "display_name": "Python 3.10.6 64-bit",
   "language": "python",
   "name": "python3"
  },
  "language_info": {
   "codemirror_mode": {
    "name": "ipython",
    "version": 3
   },
   "file_extension": ".py",
   "mimetype": "text/x-python",
   "name": "python",
   "nbconvert_exporter": "python",
   "pygments_lexer": "ipython3",
   "version": "3.10.6 (tags/v3.10.6:9c7b4bd, Aug  1 2022, 21:53:49) [MSC v.1932 64 bit (AMD64)]"
  },
  "orig_nbformat": 4,
  "vscode": {
   "interpreter": {
    "hash": "26077a1121060ebfe5ea19495cce760dcad431d01779d10862ca357e3591cd10"
   }
  }
 },
 "nbformat": 4,
 "nbformat_minor": 2
}
